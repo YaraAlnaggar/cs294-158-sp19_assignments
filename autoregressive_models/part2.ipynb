{
  "nbformat": 4,
  "nbformat_minor": 0,
  "metadata": {
    "colab": {
      "name": "unsupervised_assignment1.ipynb",
      "version": "0.3.2",
      "provenance": [],
      "collapsed_sections": [],
      "include_colab_link": true
    },
    "kernelspec": {
      "name": "python3",
      "display_name": "Python 3"
    }
  },
  "cells": [
    {
      "cell_type": "markdown",
      "metadata": {
        "id": "view-in-github",
        "colab_type": "text"
      },
      "source": [
        "<a href=\"https://colab.research.google.com/github/YaraAlnaggar/cs294-158-sp19_assignments/blob/master/assignment1/assignment1.ipynb\" target=\"_parent\"><img src=\"https://colab.research.google.com/assets/colab-badge.svg\" alt=\"Open In Colab\"/></a>"
      ]
    },
    {
      "cell_type": "code",
      "metadata": {
        "id": "PW-W8aCYMSSs",
        "colab_type": "code",
        "colab": {}
      },
      "source": [
        "import numpy as np\n",
        "import matplotlib.pyplot as plt\n",
        "import torch\n",
        "from torch.utils.data.sampler import SubsetRandomSampler\n",
        "from torch.utils.data import Dataset, DataLoader\n",
        "% matplotlib inline"
      ],
      "execution_count": 0,
      "outputs": []
    },
    {
      "cell_type": "markdown",
      "metadata": {
        "id": "yDn9bQJ7SqQw",
        "colab_type": "text"
      },
      "source": [
        "## 1 Warmup"
      ]
    },
    {
      "cell_type": "code",
      "metadata": {
        "id": "vRFDl0MJM0e1",
        "colab_type": "code",
        "colab": {}
      },
      "source": [
        "def sample_data():\n",
        "    count = 10000\n",
        "    rand = np.random.RandomState(0)\n",
        "    a = 0.3 + 0.1 * rand.randn(count)\n",
        "    b = 0.8 + 0.05 * rand.randn(count)\n",
        "    mask = rand.rand(count) < 0.5\n",
        "    samples = np.clip(a * mask + b * (1 - mask), 0.0, 1.0)\n",
        "    return np.digitize(samples, np.linspace(0.0, 1.0, 100))\n"
      ],
      "execution_count": 0,
      "outputs": []
    },
    {
      "cell_type": "code",
      "metadata": {
        "id": "UJ4fit9ig6MM",
        "colab_type": "code",
        "colab": {}
      },
      "source": [
        "class dataset_sample_data(torch.utils.data.Dataset):\n",
        "  def __init__(self, sample_data):\n",
        "    super(dataset_sample_data).__init__()\n",
        "    self.sample_data = sample_data\n",
        "  def __getitem__(self, index):\n",
        "    return self.sample_data[index]\n",
        "    \n",
        "  def __len__(self):\n",
        "    return len(self.sample_data)"
      ],
      "execution_count": 0,
      "outputs": []
    },
    {
      "cell_type": "code",
      "metadata": {
        "id": "5-aFNpqzcvJV",
        "colab_type": "code",
        "colab": {}
      },
      "source": [
        "samples = sample_data()\n",
        "theta = torch.zeros(100,requires_grad = True, dtype = torch.double)"
      ],
      "execution_count": 0,
      "outputs": []
    },
    {
      "cell_type": "code",
      "metadata": {
        "id": "zsqN6MmGk00r",
        "colab_type": "code",
        "colab": {}
      },
      "source": [
        "manual_seed = 100\n",
        "num_epochs = 1400\n",
        "batch_sz = 1000\n",
        "test_ratio = 0.2\n",
        "val_ratio  = 0.2\n",
        "test_slice = int(len(samples)*test_ratio)\n",
        "val_slice = test_slice+int(len(samples)*val_ratio)\n",
        "steps_per_epoch = int(len(samples) * 0.6 / batch_sz)\n",
        "np.random.seed(manual_seed)"
      ],
      "execution_count": 0,
      "outputs": []
    },
    {
      "cell_type": "code",
      "metadata": {
        "id": "vjCimmVgmrB8",
        "colab_type": "code",
        "colab": {}
      },
      "source": [
        "indices = np.arange(len(samples))\n",
        "test_indices, val_indices, train_indices  = indices[:test_slice] , indices[test_slice:val_slice], indices[val_slice:] \n",
        "train_sampler = SubsetRandomSampler(train_indices)"
      ],
      "execution_count": 0,
      "outputs": []
    },
    {
      "cell_type": "code",
      "metadata": {
        "id": "LGfC1ElkgZBI",
        "colab_type": "code",
        "colab": {}
      },
      "source": [
        "dataset = dataset_sample_data(samples)\n",
        "train_loader = DataLoader(dataset, batch_size= batch_sz, sampler = train_sampler)\n",
        "val_loader = DataLoader(dataset, batch_size=int(len(samples)*val_ratio), sampler = val_sampler)"
      ],
      "execution_count": 0,
      "outputs": []
    },
    {
      "cell_type": "code",
      "metadata": {
        "id": "kpKsQxlkU5sr",
        "colab_type": "code",
        "colab": {}
      },
      "source": [
        "model = torch.nn.LogSoftmax()\n",
        "loss = torch.nn.NLLLoss(reduction='mean')\n",
        "optimizer = torch.optim.Adam([theta])"
      ],
      "execution_count": 0,
      "outputs": []
    },
    {
      "cell_type": "code",
      "metadata": {
        "id": "Ath6vIrvltz5",
        "colab_type": "code",
        "colab": {
          "base_uri": "https://localhost:8080/",
          "height": 106
        },
        "outputId": "9909bb0a-745f-46b4-930a-ae2efd1510a3"
      },
      "source": [
        "# training loop\n",
        "train_loss, val_loss = [],[]\n",
        "for epoch in range(num_epochs):\n",
        "  minibatch_loss = 0\n",
        "  for i, sample in enumerate(train_loader,0):\n",
        "    optimizer.zero_grad()\n",
        "    pred = model(theta) \n",
        "    out_loss = loss(pred.repeat(sample.size()[0],1), sample)\n",
        "    out_loss.backward()\n",
        "    optimizer.step()\n",
        "    minibatch_loss += out_loss.item()\n",
        "    \n",
        "  train_loss.append(minibatch_loss/steps_per_epoch)\n",
        "  pred = model(theta)\n",
        "  _loss = loss(pred.repeat(val_indices.shape[0],1), torch.from_numpy(samples[val_indices]) )\n",
        "  val_loss.append(_loss)\n"
      ],
      "execution_count": 254,
      "outputs": [
        {
          "output_type": "stream",
          "text": [
            "/usr/local/lib/python3.6/dist-packages/ipykernel_launcher.py:6: UserWarning: Implicit dimension choice for log_softmax has been deprecated. Change the call to include dim=X as an argument.\n",
            "  \n",
            "/usr/local/lib/python3.6/dist-packages/ipykernel_launcher.py:13: UserWarning: Implicit dimension choice for log_softmax has been deprecated. Change the call to include dim=X as an argument.\n",
            "  del sys.path[0]\n"
          ],
          "name": "stderr"
        }
      ]
    },
    {
      "cell_type": "code",
      "metadata": {
        "id": "F5TONgWS9HmR",
        "colab_type": "code",
        "colab": {
          "base_uri": "https://localhost:8080/",
          "height": 312
        },
        "outputId": "edf647d3-c430-4067-ced0-0a9f46d4f0c8"
      },
      "source": [
        "# training and validation graphs\n",
        "plt.plot( val_loss, '-b', label='validation')\n",
        "plt.plot( train_loss, '-r', label='train')\n",
        "plt.xlabel(\"n steps\")\n",
        "plt.legend(loc='upper left')\n",
        "plt.title(\"negative log likelihood\")"
      ],
      "execution_count": 255,
      "outputs": [
        {
          "output_type": "execute_result",
          "data": {
            "text/plain": [
              "Text(0.5, 1.0, 'negative log likelihood')"
            ]
          },
          "metadata": {
            "tags": []
          },
          "execution_count": 255
        },
        {
          "output_type": "display_data",
          "data": {
            "image/png": "[encoded data removed]",
            "text/plain": [
              "<Figure size 432x288 with 1 Axes>"
            ]
          },
          "metadata": {
            "tags": []
          }
        }
      ]
    },
    {
      "cell_type": "code",
      "metadata": {
        "id": "XND0zBW0U_ia",
        "colab_type": "code",
        "colab": {
          "base_uri": "https://localhost:8080/",
          "height": 89
        },
        "outputId": "e7c173f4-a768-4eb4-e6ca-a6c82e91bd7e"
      },
      "source": [
        "# report test loss\n",
        "pred = model(theta)\n",
        "test_loss = loss(pred.repeat(test_indices.shape[0],1), torch.from_numpy(samples[test_indices]) )\n",
        "print(\"Test neagtive likelihood : \",test_loss.item())"
      ],
      "execution_count": 269,
      "outputs": [
        {
          "output_type": "stream",
          "text": [
            "Test neagtive likelihood :  4.048319078897564\n"
          ],
          "name": "stdout"
        },
        {
          "output_type": "stream",
          "text": [
            "/usr/local/lib/python3.6/dist-packages/ipykernel_launcher.py:1: UserWarning: Implicit dimension choice for log_softmax has been deprecated. Change the call to include dim=X as an argument.\n",
            "  \"\"\"Entry point for launching an IPython kernel.\n"
          ],
          "name": "stderr"
        }
      ]
    },
    {
      "cell_type": "code",
      "metadata": {
        "id": "b-ZBjSo2tNRU",
        "colab_type": "code",
        "colab": {
          "base_uri": "https://localhost:8080/",
          "height": 324
        },
        "outputId": "a5f59fd4-38ce-4a26-a39b-2ef2fdc9e457"
      },
      "source": [
        "# model plot\n",
        "model_final = torch.nn.functional.softmax(theta)\n",
        "model_final_ = model_final.detach().numpy()\n",
        "_ = plt.bar(np.arange(100),model_final_)"
      ],
      "execution_count": 256,
      "outputs": [
        {
          "output_type": "stream",
          "text": [
            "/usr/local/lib/python3.6/dist-packages/ipykernel_launcher.py:1: UserWarning: Implicit dimension choice for softmax has been deprecated. Change the call to include dim=X as an argument.\n",
            "  \"\"\"Entry point for launching an IPython kernel.\n"
          ],
          "name": "stderr"
        },
        {
          "output_type": "display_data",
          "data": {
            "image/png": "[encoded data removed]",
            "text/plain": [
              "<Figure size 432x288 with 1 Axes>"
            ]
          },
          "metadata": {
            "tags": []
          }
        }
      ]
    },
    {
      "cell_type": "code",
      "metadata": {
        "id": "4icXvkiEB7El",
        "colab_type": "code",
        "colab": {
          "base_uri": "https://localhost:8080/",
          "height": 281
        },
        "outputId": "f376ca14-cf35-472d-f8b2-196c359e36d7"
      },
      "source": [
        "samples_model = np.random.choice(np.arange(0,100), size=1000, replace=True, p=mod_)\n",
        "plt.hist(samples_model, bins=100)\n",
        "_ = plt.title(\"samples histogram\")"
      ],
      "execution_count": 257,
      "outputs": [
        {
          "output_type": "display_data",
          "data": {
            "image/png": "[encoded data removed]",
            "text/plain": [
              "<Figure size 432x288 with 1 Axes>"
            ]
          },
          "metadata": {
            "tags": []
          }
        }
      ]
    },
    {
      "cell_type": "code",
      "metadata": {
        "id": "E9dZd16ZE3Z1",
        "colab_type": "code",
        "colab": {
          "base_uri": "https://localhost:8080/",
          "height": 281
        },
        "outputId": "68b2629d-f0fb-4bfa-e4bf-3c80967fcdf7"
      },
      "source": [
        "plt.hist(sample_data(), bins=100)\n",
        "_ = plt.title(\"data distribution\")"
      ],
      "execution_count": 267,
      "outputs": [
        {
          "output_type": "display_data",
          "data": {
            "image/png": "[encoded data removed]",
            "text/plain": [
              "<Figure size 432x288 with 1 Axes>"
            ]
          },
          "metadata": {
            "tags": []
          }
        }
      ]
    },
    {
      "cell_type": "markdown",
      "metadata": {
        "id": "9kQdSfnXW4z9",
        "colab_type": "text"
      },
      "source": [
        "## 2 Two-dimensional data"
      ]
    },
    {
      "cell_type": "code",
      "metadata": {
        "id": "K_0d_LbVVJFb",
        "colab_type": "code",
        "colab": {}
      },
      "source": [
        ""
      ],
      "execution_count": 0,
      "outputs": []
    }
  ]
}
