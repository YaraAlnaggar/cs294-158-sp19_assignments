{
  "nbformat": 4,
  "nbformat_minor": 0,
  "metadata": {
    "colab": {
      "name": "Inception_cifar-10.ipynb",
      "provenance": [],
      "collapsed_sections": [],
      "include_colab_link": true
    },
    "kernelspec": {
      "name": "python3",
      "display_name": "Python 3"
    },
    "accelerator": "GPU",
    "widgets": {
      "application/vnd.jupyter.widget-state+json": {
        "770d40fd1ad446dca7535da30fdcef2e": {
          "model_module": "@jupyter-widgets/controls",
          "model_name": "HBoxModel",
          "state": {
            "_view_name": "HBoxView",
            "_dom_classes": [],
            "_model_name": "HBoxModel",
            "_view_module": "@jupyter-widgets/controls",
            "_model_module_version": "1.5.0",
            "_view_count": null,
            "_view_module_version": "1.5.0",
            "box_style": "",
            "layout": "IPY_MODEL_1c20047e2c614574a0c5c26aa1177342",
            "_model_module": "@jupyter-widgets/controls",
            "children": [
              "IPY_MODEL_741a7cc95a2a4531ac7145ca78dc467f",
              "IPY_MODEL_a916944efc7c4cf88b72211657d05ea4"
            ]
          }
        },
        "1c20047e2c614574a0c5c26aa1177342": {
          "model_module": "@jupyter-widgets/base",
          "model_name": "LayoutModel",
          "state": {
            "_view_name": "LayoutView",
            "grid_template_rows": null,
            "right": null,
            "justify_content": null,
            "_view_module": "@jupyter-widgets/base",
            "overflow": null,
            "_model_module_version": "1.2.0",
            "_view_count": null,
            "flex_flow": null,
            "width": null,
            "min_width": null,
            "border": null,
            "align_items": null,
            "bottom": null,
            "_model_module": "@jupyter-widgets/base",
            "top": null,
            "grid_column": null,
            "overflow_y": null,
            "overflow_x": null,
            "grid_auto_flow": null,
            "grid_area": null,
            "grid_template_columns": null,
            "flex": null,
            "_model_name": "LayoutModel",
            "justify_items": null,
            "grid_row": null,
            "max_height": null,
            "align_content": null,
            "visibility": null,
            "align_self": null,
            "height": null,
            "min_height": null,
            "padding": null,
            "grid_auto_rows": null,
            "grid_gap": null,
            "max_width": null,
            "order": null,
            "_view_module_version": "1.2.0",
            "grid_template_areas": null,
            "object_position": null,
            "object_fit": null,
            "grid_auto_columns": null,
            "margin": null,
            "display": null,
            "left": null
          }
        },
        "741a7cc95a2a4531ac7145ca78dc467f": {
          "model_module": "@jupyter-widgets/controls",
          "model_name": "IntProgressModel",
          "state": {
            "_view_name": "ProgressView",
            "style": "IPY_MODEL_1e29b146250b4b02a83fc422ebe38dc9",
            "_dom_classes": [],
            "description": "",
            "_model_name": "IntProgressModel",
            "bar_style": "info",
            "max": 1,
            "_view_module": "@jupyter-widgets/controls",
            "_model_module_version": "1.5.0",
            "value": 1,
            "_view_count": null,
            "_view_module_version": "1.5.0",
            "orientation": "horizontal",
            "min": 0,
            "description_tooltip": null,
            "_model_module": "@jupyter-widgets/controls",
            "layout": "IPY_MODEL_671839614e0242dbbeb6fdd75b7ac90b"
          }
        },
        "a916944efc7c4cf88b72211657d05ea4": {
          "model_module": "@jupyter-widgets/controls",
          "model_name": "HTMLModel",
          "state": {
            "_view_name": "HTMLView",
            "style": "IPY_MODEL_223a26258514495b8cafe303dfae0f86",
            "_dom_classes": [],
            "description": "",
            "_model_name": "HTMLModel",
            "placeholder": "​",
            "_view_module": "@jupyter-widgets/controls",
            "_model_module_version": "1.5.0",
            "value": " 170500096/? [00:30&lt;00:00, 13544455.67it/s]",
            "_view_count": null,
            "_view_module_version": "1.5.0",
            "description_tooltip": null,
            "_model_module": "@jupyter-widgets/controls",
            "layout": "IPY_MODEL_f1ed8ec198ee4a55862b9cc4b5b2f0c8"
          }
        },
        "1e29b146250b4b02a83fc422ebe38dc9": {
          "model_module": "@jupyter-widgets/controls",
          "model_name": "ProgressStyleModel",
          "state": {
            "_view_name": "StyleView",
            "_model_name": "ProgressStyleModel",
            "description_width": "initial",
            "_view_module": "@jupyter-widgets/base",
            "_model_module_version": "1.5.0",
            "_view_count": null,
            "_view_module_version": "1.2.0",
            "bar_color": null,
            "_model_module": "@jupyter-widgets/controls"
          }
        },
        "671839614e0242dbbeb6fdd75b7ac90b": {
          "model_module": "@jupyter-widgets/base",
          "model_name": "LayoutModel",
          "state": {
            "_view_name": "LayoutView",
            "grid_template_rows": null,
            "right": null,
            "justify_content": null,
            "_view_module": "@jupyter-widgets/base",
            "overflow": null,
            "_model_module_version": "1.2.0",
            "_view_count": null,
            "flex_flow": null,
            "width": null,
            "min_width": null,
            "border": null,
            "align_items": null,
            "bottom": null,
            "_model_module": "@jupyter-widgets/base",
            "top": null,
            "grid_column": null,
            "overflow_y": null,
            "overflow_x": null,
            "grid_auto_flow": null,
            "grid_area": null,
            "grid_template_columns": null,
            "flex": null,
            "_model_name": "LayoutModel",
            "justify_items": null,
            "grid_row": null,
            "max_height": null,
            "align_content": null,
            "visibility": null,
            "align_self": null,
            "height": null,
            "min_height": null,
            "padding": null,
            "grid_auto_rows": null,
            "grid_gap": null,
            "max_width": null,
            "order": null,
            "_view_module_version": "1.2.0",
            "grid_template_areas": null,
            "object_position": null,
            "object_fit": null,
            "grid_auto_columns": null,
            "margin": null,
            "display": null,
            "left": null
          }
        },
        "223a26258514495b8cafe303dfae0f86": {
          "model_module": "@jupyter-widgets/controls",
          "model_name": "DescriptionStyleModel",
          "state": {
            "_view_name": "StyleView",
            "_model_name": "DescriptionStyleModel",
            "description_width": "",
            "_view_module": "@jupyter-widgets/base",
            "_model_module_version": "1.5.0",
            "_view_count": null,
            "_view_module_version": "1.2.0",
            "_model_module": "@jupyter-widgets/controls"
          }
        },
        "f1ed8ec198ee4a55862b9cc4b5b2f0c8": {
          "model_module": "@jupyter-widgets/base",
          "model_name": "LayoutModel",
          "state": {
            "_view_name": "LayoutView",
            "grid_template_rows": null,
            "right": null,
            "justify_content": null,
            "_view_module": "@jupyter-widgets/base",
            "overflow": null,
            "_model_module_version": "1.2.0",
            "_view_count": null,
            "flex_flow": null,
            "width": null,
            "min_width": null,
            "border": null,
            "align_items": null,
            "bottom": null,
            "_model_module": "@jupyter-widgets/base",
            "top": null,
            "grid_column": null,
            "overflow_y": null,
            "overflow_x": null,
            "grid_auto_flow": null,
            "grid_area": null,
            "grid_template_columns": null,
            "flex": null,
            "_model_name": "LayoutModel",
            "justify_items": null,
            "grid_row": null,
            "max_height": null,
            "align_content": null,
            "visibility": null,
            "align_self": null,
            "height": null,
            "min_height": null,
            "padding": null,
            "grid_auto_rows": null,
            "grid_gap": null,
            "max_width": null,
            "order": null,
            "_view_module_version": "1.2.0",
            "grid_template_areas": null,
            "object_position": null,
            "object_fit": null,
            "grid_auto_columns": null,
            "margin": null,
            "display": null,
            "left": null
          }
        }
      }
    }
  },
  "cells": [
    {
      "cell_type": "markdown",
      "metadata": {
        "id": "view-in-github",
        "colab_type": "text"
      },
      "source": [
        "<a href=\"https://colab.research.google.com/github/YaraAlnaggar/unsupervised-deep-learning_cs294-158_assignments/blob/master/gan/Inception_cifar10.ipynb\" target=\"_parent\"><img src=\"https://colab.research.google.com/assets/colab-badge.svg\" alt=\"Open In Colab\"/></a>"
      ]
    },
    {
      "cell_type": "code",
      "metadata": {
        "id": "CsmS1FH0AvGp",
        "colab_type": "code",
        "colab": {}
      },
      "source": [
        "import torch \n",
        "from torch import nn, optim\n",
        "import torchvision\n",
        "import torch.nn.functional as F\n",
        "from torchvision import datasets,transforms\n",
        "from torch.utils.data import DataLoader\n",
        "import numpy as np\n",
        "from numpy import log\n",
        "import matplotlib.pyplot as plt\n",
        "\n",
        "device = torch.device(\"cuda:0\") if torch.cuda.is_available() else torch.device(\"cpu\")"
      ],
      "execution_count": 0,
      "outputs": []
    },
    {
      "cell_type": "code",
      "metadata": {
        "id": "kkDcEAkffSTr",
        "colab_type": "code",
        "colab": {}
      },
      "source": [
        "inception_model = torchvision.models.inception.inception_v3(pretrained=False, transform_input=False, progress=True, num_classes=10,aux_logits=False).to(device)"
      ],
      "execution_count": 0,
      "outputs": []
    },
    {
      "cell_type": "code",
      "metadata": {
        "id": "zd4LWOQzhNxk",
        "colab_type": "code",
        "outputId": "239f0487-4e87-4a4f-b225-be791d32e6ad",
        "colab": {
          "base_uri": "https://localhost:8080/",
          "height": 118,
          "referenced_widgets": [
            "770d40fd1ad446dca7535da30fdcef2e",
            "1c20047e2c614574a0c5c26aa1177342",
            "741a7cc95a2a4531ac7145ca78dc467f",
            "a916944efc7c4cf88b72211657d05ea4",
            "1e29b146250b4b02a83fc422ebe38dc9",
            "671839614e0242dbbeb6fdd75b7ac90b",
            "223a26258514495b8cafe303dfae0f86",
            "f1ed8ec198ee4a55862b9cc4b5b2f0c8"
          ]
        }
      },
      "source": [
        "IMAGE_SIZE = 99\n",
        "padding = (299-IMAGE_SIZE)//2\n",
        "print(padding)\n",
        "transform = transforms.Compose(\n",
        "    [transforms.Resize(IMAGE_SIZE),\n",
        "     transforms.Pad(padding),\n",
        "     transforms.ToTensor(),\n",
        "     transforms.Normalize((0.5, 0.5, 0.5),(0.5, 0.5, 0.5))])\n",
        "cifar_train = datasets.CIFAR10(root='./data', train=True, download=True, transform=transform)\n",
        "cifar_val = datasets.CIFAR10(root='./data', train=False, download=True, transform=transform)"
      ],
      "execution_count": 0,
      "outputs": [
        {
          "output_type": "stream",
          "text": [
            "100\n",
            "Downloading https://www.cs.toronto.edu/~kriz/cifar-10-python.tar.gz to ./data/cifar-10-python.tar.gz\n"
          ],
          "name": "stdout"
        },
        {
          "output_type": "display_data",
          "data": {
            "application/vnd.jupyter.widget-view+json": {
              "model_id": "770d40fd1ad446dca7535da30fdcef2e",
              "version_minor": 0,
              "version_major": 2
            },
            "text/plain": [
              "HBox(children=(IntProgress(value=1, bar_style='info', max=1), HTML(value='')))"
            ]
          },
          "metadata": {
            "tags": []
          }
        },
        {
          "output_type": "stream",
          "text": [
            "Extracting ./data/cifar-10-python.tar.gz to ./data\n",
            "Files already downloaded and verified\n"
          ],
          "name": "stdout"
        }
      ]
    },
    {
      "cell_type": "code",
      "metadata": {
        "id": "fkngOaDLly9j",
        "colab_type": "code",
        "colab": {}
      },
      "source": [
        "batch_size = 32\n",
        "epochs_num = 20\n",
        "train_loader = DataLoader(cifar_train, batch_size = batch_size ,shuffle = True)\n",
        "val_loader = DataLoader(cifar_val, batch_size = batch_size ,shuffle = False)"
      ],
      "execution_count": 0,
      "outputs": []
    },
    {
      "cell_type": "code",
      "metadata": {
        "id": "xHxt7DlTh2p2",
        "colab_type": "code",
        "outputId": "cfc3d67a-a4ca-4c38-d231-ef0cec6826d3",
        "colab": {
          "base_uri": "https://localhost:8080/",
          "height": 321
        }
      },
      "source": [
        "batch = next(iter(train_loader))\n",
        "print(batch[0].size())\n",
        "plt.imshow(batch[0][0].permute(1,2,0).numpy())\n",
        "# get_inception_score(inception_model, batch)"
      ],
      "execution_count": 0,
      "outputs": [
        {
          "output_type": "stream",
          "text": [
            "Clipping input data to the valid range for imshow with RGB data ([0..1] for floats or [0..255] for integers).\n"
          ],
          "name": "stderr"
        },
        {
          "output_type": "stream",
          "text": [
            "torch.Size([32, 3, 299, 299])\n"
          ],
          "name": "stdout"
        },
        {
          "output_type": "execute_result",
          "data": {
            "text/plain": [
              "<matplotlib.image.AxesImage at 0x7f8f28068cc0>"
            ]
          },
          "metadata": {
            "tags": []
          },
          "execution_count": 6
        },
        {
          "output_type": "display_data",
          "data": {
            "image/png": "[encoded data removed]",
            "text/plain": [
              "<Figure size 432x288 with 1 Axes>"
            ]
          },
          "metadata": {
            "tags": [],
            "needs_background": "light"
          }
        }
      ]
    },
    {
      "cell_type": "code",
      "metadata": {
        "id": "Hl9I_9TmjJ2j",
        "colab_type": "code",
        "colab": {}
      },
      "source": [
        "criterion = nn.CrossEntropyLoss().to(device)\n",
        "optimizer = optim.Adam(inception_model.parameters())\n",
        "epoch_start = 0"
      ],
      "execution_count": 0,
      "outputs": []
    },
    {
      "cell_type": "code",
      "metadata": {
        "id": "l-_q-7P0kTL8",
        "colab_type": "code",
        "colab": {}
      },
      "source": [
        "def accuracy(pred,label):\n",
        "  label_pred = torch.argmax(pred, dim=1)\n",
        "  result = label_pred == label\n",
        "  return result.float().sum()/result.size()[0]"
      ],
      "execution_count": 0,
      "outputs": []
    },
    {
      "cell_type": "code",
      "metadata": {
        "id": "ned_Zc4kCisC",
        "colab_type": "code",
        "colab": {}
      },
      "source": [
        "# ## restore model\n",
        "# checkpoint = torch.load(\"/content/drive/My Drive/inception_cifar10.tar\")\n",
        "# inception_model.load_state_dict(checkpoint[\"model\"])\n",
        "# optimizer.load_state_dict(checkpoint[\"optimizer\"])\n",
        "# epoch_start = checkpoint[\"epoch\"]"
      ],
      "execution_count": 0,
      "outputs": []
    },
    {
      "cell_type": "code",
      "metadata": {
        "id": "BfytLSmQi3Sr",
        "colab_type": "code",
        "outputId": "5f7e57ff-7fe5-494d-8168-ee83e31ac3fc",
        "colab": {
          "base_uri": "https://localhost:8080/",
          "height": 1000
        }
      },
      "source": [
        "train_loss, val_loss = [],[]\n",
        "for epoch in range(0,epochs_num):\n",
        "  loss_d,acc_d = 0, 0\n",
        "  inception_model.train()\n",
        "  for step, (data,labels) in enumerate(train_loader,1):\n",
        "    optimizer.zero_grad()\n",
        "    pred = inception_model(data.to(device))\n",
        "    loss = criterion(pred,labels.to(device))\n",
        "    loss_d+=loss.item()\n",
        "    acc_d+=accuracy(pred,labels.to(device)).data\n",
        "    loss.backward()\n",
        "    optimizer.step()\n",
        "\n",
        "    if step%500 == 0: print(\"step \",step) \n",
        "  print(\"Epoch {} |loss {:.3f}| accuracy {:0.3f}\".format(epoch, loss_d/step, acc_d/step))\n",
        "  train_loss.append(loss_d/step)\n",
        "  loss_val,acc_val = 0, 0\n",
        "  inception_model.eval()\n",
        "  for step, (data,labels) in enumerate(val_loader,1):\n",
        "    pred = inception_model(data.to(device))\n",
        "    loss = criterion(pred,labels.to(device))\n",
        "    loss_val +=loss.item()\n",
        "    acc_val+= accuracy(pred, labels.to(device))\n",
        "  print(\"Val loss {:.3f}| accuracy {:.3f}\".format(loss_val/step, acc_val/step))\n",
        "  val_loss.append(loss_val/step)\n",
        "  # model_save_name = 'inception_cifar10_graph.tar' \n",
        "  # path = F\"/content/drive/My Drive/{model_save_name}\"\n",
        "  # state_dict = {\"model\": inception_model.state_dict(), \"optimizer\": optimizer.state_dict(), \"epoch\":epoch,\"train_loss\":train_loss,\"val_loss\":val_loss}\n",
        "  # torch.save(state_dict, path)\n",
        "  # print(\"saved successfuly\")"
      ],
      "execution_count": 10,
      "outputs": [
        {
          "output_type": "stream",
          "text": [
            "step  500\n",
            "step  1000\n",
            "step  1500\n",
            "Epoch 1 |loss 1.667| accuracy 0.420\n",
            "Val loss 1.356| accuracy 0.524\n",
            "saved successfuly\n",
            "step  500\n",
            "step  1000\n",
            "step  1500\n",
            "Epoch 2 |loss 1.094| accuracy 0.615\n",
            "Val loss 1.093| accuracy 0.625\n",
            "saved successfuly\n",
            "step  500\n",
            "step  1000\n",
            "step  1500\n",
            "Epoch 3 |loss 0.864| accuracy 0.701\n",
            "Val loss 0.915| accuracy 0.691\n",
            "saved successfuly\n",
            "step  500\n",
            "step  1000\n",
            "step  1500\n",
            "Epoch 4 |loss 0.743| accuracy 0.747\n",
            "Val loss 1.880| accuracy 0.497\n",
            "saved successfuly\n",
            "step  500\n",
            "step  1000\n",
            "step  1500\n",
            "Epoch 5 |loss 0.636| accuracy 0.783\n",
            "Val loss 0.564| accuracy 0.803\n",
            "saved successfuly\n",
            "step  500\n",
            "step  1000\n",
            "step  1500\n",
            "Epoch 6 |loss 0.565| accuracy 0.807\n",
            "Val loss 0.780| accuracy 0.744\n",
            "saved successfuly\n",
            "step  500\n",
            "step  1000\n",
            "step  1500\n",
            "Epoch 7 |loss 0.500| accuracy 0.831\n",
            "Val loss 0.558| accuracy 0.811\n",
            "saved successfuly\n",
            "step  500\n",
            "step  1000\n",
            "step  1500\n",
            "Epoch 8 |loss 0.440| accuracy 0.850\n",
            "Val loss 0.901| accuracy 0.728\n",
            "saved successfuly\n",
            "step  500\n",
            "step  1000\n",
            "step  1500\n",
            "Epoch 9 |loss 0.409| accuracy 0.861\n",
            "Val loss 0.568| accuracy 0.817\n",
            "saved successfuly\n",
            "step  500\n",
            "step  1000\n",
            "step  1500\n",
            "Epoch 10 |loss 0.348| accuracy 0.882\n",
            "Val loss 0.508| accuracy 0.831\n",
            "saved successfuly\n",
            "step  500\n",
            "step  1000\n",
            "step  1500\n",
            "Epoch 11 |loss 0.305| accuracy 0.896\n",
            "Val loss 0.481| accuracy 0.848\n",
            "saved successfuly\n",
            "step  500\n",
            "step  1000\n",
            "step  1500\n",
            "Epoch 12 |loss 0.267| accuracy 0.909\n",
            "Val loss 0.529| accuracy 0.831\n",
            "saved successfuly\n",
            "step  500\n",
            "step  1000\n",
            "step  1500\n",
            "Epoch 13 |loss 0.241| accuracy 0.917\n",
            "Val loss 0.495| accuracy 0.845\n",
            "saved successfuly\n",
            "step  500\n",
            "step  1000\n",
            "step  1500\n",
            "Epoch 14 |loss 0.204| accuracy 0.930\n",
            "Val loss 0.576| accuracy 0.832\n",
            "saved successfuly\n",
            "step  500\n",
            "step  1000\n",
            "step  1500\n",
            "Epoch 15 |loss 0.182| accuracy 0.938\n",
            "Val loss 0.658| accuracy 0.815\n",
            "saved successfuly\n",
            "step  500\n",
            "step  1000\n",
            "step  1500\n",
            "Epoch 16 |loss 0.161| accuracy 0.945\n",
            "Val loss 0.550| accuracy 0.837\n",
            "saved successfuly\n",
            "step  500\n",
            "step  1000\n",
            "step  1500\n",
            "Epoch 17 |loss 0.139| accuracy 0.951\n",
            "Val loss 0.583| accuracy 0.842\n",
            "saved successfuly\n",
            "step  500\n",
            "step  1000\n",
            "step  1500\n",
            "Epoch 18 |loss 0.121| accuracy 0.958\n",
            "Val loss 0.525| accuracy 0.859\n",
            "saved successfuly\n",
            "step  500\n",
            "step  1000\n",
            "step  1500\n",
            "Epoch 19 |loss 0.112| accuracy 0.962\n",
            "Val loss 0.575| accuracy 0.851\n",
            "saved successfuly\n"
          ],
          "name": "stdout"
        }
      ]
    },
    {
      "cell_type": "code",
      "metadata": {
        "id": "P_XOz0NuXlrS",
        "colab_type": "code",
        "colab": {
          "base_uri": "https://localhost:8080/",
          "height": 265
        },
        "outputId": "8f14f6c8-b1f7-452d-ce13-0a196480c709"
      },
      "source": [
        "plt.plot(np.arange(epochs_num),train_loss, label = \"train loss\")\n",
        "plt.plot(np.arange(epochs_num),val_loss, label = \"validation loss\")\n",
        "plt.legend(loc='upper left')\n",
        "plt.show()"
      ],
      "execution_count": 17,
      "outputs": [
        {
          "output_type": "display_data",
          "data": {
            "image/png": "[encoded data removed]",
            "text/plain": [
              "<Figure size 432x288 with 1 Axes>"
            ]
          },
          "metadata": {
            "tags": [],
            "needs_background": "light"
          }
        }
      ]
    }
  ]
}